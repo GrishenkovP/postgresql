{
  "nbformat": 4,
  "nbformat_minor": 0,
  "metadata": {
    "colab": {
      "provenance": []
    },
    "kernelspec": {
      "name": "python3",
      "display_name": "Python 3"
    },
    "language_info": {
      "name": "python"
    }
  },
  "cells": [
    {
      "cell_type": "code",
      "execution_count": 1,
      "metadata": {
        "id": "00DSghshpB3h"
      },
      "outputs": [],
      "source": [
        "%%capture\n",
        "# Install postgresql server\n",
        "!sudo apt-get -y -qq update\n",
        "!sudo apt-get -y -qq install postgresql\n",
        "!sudo service postgresql start\n",
        "\n",
        "# Setup a password `postgres` for username `postgres`\n",
        "!sudo -u postgres psql -U postgres -c \"ALTER USER postgres PASSWORD 'postgres';\"\n",
        "\n",
        "# Setup a database with name `tfio_demo` to be used\n",
        "!sudo -u postgres psql -U postgres -c 'DROP DATABASE IF EXISTS db;'\n",
        "!sudo -u postgres psql -U postgres -c 'CREATE DATABASE db;'"
      ]
    },
    {
      "cell_type": "code",
      "source": [
        "import pandas as pd\n",
        "from sqlalchemy import create_engine\n",
        "import yaml\n",
        "import os\n",
        "from time import time"
      ],
      "metadata": {
        "id": "QrhWKWI4uh_7"
      },
      "execution_count": 2,
      "outputs": []
    },
    {
      "cell_type": "code",
      "source": [
        "with open('settings.yaml', encoding='utf8') as f:\n",
        "    settings = yaml.safe_load(f)"
      ],
      "metadata": {
        "id": "amZiKy5O-T3K"
      },
      "execution_count": 3,
      "outputs": []
    },
    {
      "cell_type": "code",
      "source": [
        "user = settings['DB']['USER']\n",
        "password = settings['DB']['PASSWORD']\n",
        "host = settings['DB']['HOST']\n",
        "post = settings['DB']['PORT']\n",
        "name = settings['DB']['NAME']"
      ],
      "metadata": {
        "id": "TJHog6re-cAZ"
      },
      "execution_count": 4,
      "outputs": []
    },
    {
      "cell_type": "code",
      "source": [
        "point_connect = 'postgresql://{}:{}@{}:{}/{}'.format(user, password, host, post, name)\n",
        "con = create_engine(point_connect)"
      ],
      "metadata": {
        "id": "qsCMSbALA9zw"
      },
      "execution_count": 5,
      "outputs": []
    },
    {
      "cell_type": "code",
      "source": [
        "url = \"https://raw.githubusercontent.com/grishenkovp/databricks/main/sql/sales.csv\"\n",
        "input_csv = \"sales.csv\"\n",
        "db_tbl = \"sales\""
      ],
      "metadata": {
        "id": "QWB3wNkW-rUa"
      },
      "execution_count": 6,
      "outputs": []
    },
    {
      "cell_type": "code",
      "source": [
        "os.system(f\"wget {url} -O {input_csv}\")"
      ],
      "metadata": {
        "colab": {
          "base_uri": "https://localhost:8080/"
        },
        "id": "7nH9DWr_AcyB",
        "outputId": "3dada430-0469-41c3-a128-ea6924825c96"
      },
      "execution_count": 7,
      "outputs": [
        {
          "output_type": "execute_result",
          "data": {
            "text/plain": [
              "0"
            ]
          },
          "metadata": {},
          "execution_count": 7
        }
      ]
    },
    {
      "cell_type": "code",
      "source": [
        "!head -n 5 -v  /content/sales.csv"
      ],
      "metadata": {
        "colab": {
          "base_uri": "https://localhost:8080/"
        },
        "id": "VIyj944rauzl",
        "outputId": "a087fd0c-f2fc-4f7f-d692-1ebca7999877"
      },
      "execution_count": 14,
      "outputs": [
        {
          "output_type": "stream",
          "name": "stdout",
          "text": [
            "==> /content/sales.csv <==\n",
            "date,id_client,id_product,sale_amount\n",
            "01.01.2021,4,4,24\n",
            "02.01.2021,1,1,1\n",
            "03.01.2021,2,1,10\n",
            "04.01.2021,10,3,80\n"
          ]
        }
      ]
    },
    {
      "cell_type": "code",
      "source": [
        "!wc -l /content/sales.csv"
      ],
      "metadata": {
        "colab": {
          "base_uri": "https://localhost:8080/"
        },
        "id": "6_RZfjxAb5J8",
        "outputId": "8557ee33-fcac-4dd3-d2e4-377931695953"
      },
      "execution_count": 15,
      "outputs": [
        {
          "output_type": "stream",
          "name": "stdout",
          "text": [
            "182 /content/sales.csv\n"
          ]
        }
      ]
    },
    {
      "cell_type": "code",
      "source": [
        "# from datetime import datetime\n",
        "# dateparse = lambda x: datetime.strptime(x, '%d.%m.%Y %H:%M:%S')\n",
        "# df = pd.read_csv(input_csv, parse_dates=['date'], date_parser=dateparse)"
      ],
      "metadata": {
        "id": "umvFABpVC5pI"
      },
      "execution_count": null,
      "outputs": []
    },
    {
      "cell_type": "code",
      "source": [
        "df = pd.read_csv(input_csv)\n",
        "df.columns = ['dt','client_id','product_id','amount']\n",
        "df['dt'] = pd.to_datetime(df['dt'], format='%d.%m.%Y', errors='ignore')\n",
        "df['client_id'] = df['client_id'].astype('int32')\n",
        "df['product_id'] = df['product_id'].astype('int32')\n",
        "df['amount'] = df['amount'].astype('int32')"
      ],
      "metadata": {
        "id": "DAxdJXN9Bbyy"
      },
      "execution_count": 16,
      "outputs": []
    },
    {
      "cell_type": "code",
      "source": [
        "df.head(5)"
      ],
      "metadata": {
        "colab": {
          "base_uri": "https://localhost:8080/",
          "height": 206
        },
        "id": "dFuJ7xnPEaY_",
        "outputId": "c3513a7a-bfdd-495e-8e4c-fb58889bdade"
      },
      "execution_count": 17,
      "outputs": [
        {
          "output_type": "execute_result",
          "data": {
            "text/plain": [
              "          dt  client_id  product_id  amount\n",
              "0 2021-01-01          4           4      24\n",
              "1 2021-01-02          1           1       1\n",
              "2 2021-01-03          2           1      10\n",
              "3 2021-01-04         10           3      80\n",
              "4 2021-01-05          8           1      72"
            ],
            "text/html": [
              "\n",
              "  <div id=\"df-3b95afaa-3c13-415b-9fa7-8ac2638f8f92\">\n",
              "    <div class=\"colab-df-container\">\n",
              "      <div>\n",
              "<style scoped>\n",
              "    .dataframe tbody tr th:only-of-type {\n",
              "        vertical-align: middle;\n",
              "    }\n",
              "\n",
              "    .dataframe tbody tr th {\n",
              "        vertical-align: top;\n",
              "    }\n",
              "\n",
              "    .dataframe thead th {\n",
              "        text-align: right;\n",
              "    }\n",
              "</style>\n",
              "<table border=\"1\" class=\"dataframe\">\n",
              "  <thead>\n",
              "    <tr style=\"text-align: right;\">\n",
              "      <th></th>\n",
              "      <th>dt</th>\n",
              "      <th>client_id</th>\n",
              "      <th>product_id</th>\n",
              "      <th>amount</th>\n",
              "    </tr>\n",
              "  </thead>\n",
              "  <tbody>\n",
              "    <tr>\n",
              "      <th>0</th>\n",
              "      <td>2021-01-01</td>\n",
              "      <td>4</td>\n",
              "      <td>4</td>\n",
              "      <td>24</td>\n",
              "    </tr>\n",
              "    <tr>\n",
              "      <th>1</th>\n",
              "      <td>2021-01-02</td>\n",
              "      <td>1</td>\n",
              "      <td>1</td>\n",
              "      <td>1</td>\n",
              "    </tr>\n",
              "    <tr>\n",
              "      <th>2</th>\n",
              "      <td>2021-01-03</td>\n",
              "      <td>2</td>\n",
              "      <td>1</td>\n",
              "      <td>10</td>\n",
              "    </tr>\n",
              "    <tr>\n",
              "      <th>3</th>\n",
              "      <td>2021-01-04</td>\n",
              "      <td>10</td>\n",
              "      <td>3</td>\n",
              "      <td>80</td>\n",
              "    </tr>\n",
              "    <tr>\n",
              "      <th>4</th>\n",
              "      <td>2021-01-05</td>\n",
              "      <td>8</td>\n",
              "      <td>1</td>\n",
              "      <td>72</td>\n",
              "    </tr>\n",
              "  </tbody>\n",
              "</table>\n",
              "</div>\n",
              "      <button class=\"colab-df-convert\" onclick=\"convertToInteractive('df-3b95afaa-3c13-415b-9fa7-8ac2638f8f92')\"\n",
              "              title=\"Convert this dataframe to an interactive table.\"\n",
              "              style=\"display:none;\">\n",
              "        \n",
              "  <svg xmlns=\"http://www.w3.org/2000/svg\" height=\"24px\"viewBox=\"0 0 24 24\"\n",
              "       width=\"24px\">\n",
              "    <path d=\"M0 0h24v24H0V0z\" fill=\"none\"/>\n",
              "    <path d=\"M18.56 5.44l.94 2.06.94-2.06 2.06-.94-2.06-.94-.94-2.06-.94 2.06-2.06.94zm-11 1L8.5 8.5l.94-2.06 2.06-.94-2.06-.94L8.5 2.5l-.94 2.06-2.06.94zm10 10l.94 2.06.94-2.06 2.06-.94-2.06-.94-.94-2.06-.94 2.06-2.06.94z\"/><path d=\"M17.41 7.96l-1.37-1.37c-.4-.4-.92-.59-1.43-.59-.52 0-1.04.2-1.43.59L10.3 9.45l-7.72 7.72c-.78.78-.78 2.05 0 2.83L4 21.41c.39.39.9.59 1.41.59.51 0 1.02-.2 1.41-.59l7.78-7.78 2.81-2.81c.8-.78.8-2.07 0-2.86zM5.41 20L4 18.59l7.72-7.72 1.47 1.35L5.41 20z\"/>\n",
              "  </svg>\n",
              "      </button>\n",
              "      \n",
              "  <style>\n",
              "    .colab-df-container {\n",
              "      display:flex;\n",
              "      flex-wrap:wrap;\n",
              "      gap: 12px;\n",
              "    }\n",
              "\n",
              "    .colab-df-convert {\n",
              "      background-color: #E8F0FE;\n",
              "      border: none;\n",
              "      border-radius: 50%;\n",
              "      cursor: pointer;\n",
              "      display: none;\n",
              "      fill: #1967D2;\n",
              "      height: 32px;\n",
              "      padding: 0 0 0 0;\n",
              "      width: 32px;\n",
              "    }\n",
              "\n",
              "    .colab-df-convert:hover {\n",
              "      background-color: #E2EBFA;\n",
              "      box-shadow: 0px 1px 2px rgba(60, 64, 67, 0.3), 0px 1px 3px 1px rgba(60, 64, 67, 0.15);\n",
              "      fill: #174EA6;\n",
              "    }\n",
              "\n",
              "    [theme=dark] .colab-df-convert {\n",
              "      background-color: #3B4455;\n",
              "      fill: #D2E3FC;\n",
              "    }\n",
              "\n",
              "    [theme=dark] .colab-df-convert:hover {\n",
              "      background-color: #434B5C;\n",
              "      box-shadow: 0px 1px 3px 1px rgba(0, 0, 0, 0.15);\n",
              "      filter: drop-shadow(0px 1px 2px rgba(0, 0, 0, 0.3));\n",
              "      fill: #FFFFFF;\n",
              "    }\n",
              "  </style>\n",
              "\n",
              "      <script>\n",
              "        const buttonEl =\n",
              "          document.querySelector('#df-3b95afaa-3c13-415b-9fa7-8ac2638f8f92 button.colab-df-convert');\n",
              "        buttonEl.style.display =\n",
              "          google.colab.kernel.accessAllowed ? 'block' : 'none';\n",
              "\n",
              "        async function convertToInteractive(key) {\n",
              "          const element = document.querySelector('#df-3b95afaa-3c13-415b-9fa7-8ac2638f8f92');\n",
              "          const dataTable =\n",
              "            await google.colab.kernel.invokeFunction('convertToInteractive',\n",
              "                                                     [key], {});\n",
              "          if (!dataTable) return;\n",
              "\n",
              "          const docLinkHtml = 'Like what you see? Visit the ' +\n",
              "            '<a target=\"_blank\" href=https://colab.research.google.com/notebooks/data_table.ipynb>data table notebook</a>'\n",
              "            + ' to learn more about interactive tables.';\n",
              "          element.innerHTML = '';\n",
              "          dataTable['output_type'] = 'display_data';\n",
              "          await google.colab.output.renderOutput(dataTable, element);\n",
              "          const docLink = document.createElement('div');\n",
              "          docLink.innerHTML = docLinkHtml;\n",
              "          element.appendChild(docLink);\n",
              "        }\n",
              "      </script>\n",
              "    </div>\n",
              "  </div>\n",
              "  "
            ]
          },
          "metadata": {},
          "execution_count": 17
        }
      ]
    },
    {
      "cell_type": "code",
      "source": [
        "df.info()"
      ],
      "metadata": {
        "colab": {
          "base_uri": "https://localhost:8080/"
        },
        "id": "Ib-JUCG-Cb8w",
        "outputId": "5c0846d4-5e69-4ce3-b4fe-bf04c5143816"
      },
      "execution_count": 18,
      "outputs": [
        {
          "output_type": "stream",
          "name": "stdout",
          "text": [
            "<class 'pandas.core.frame.DataFrame'>\n",
            "RangeIndex: 181 entries, 0 to 180\n",
            "Data columns (total 4 columns):\n",
            " #   Column      Non-Null Count  Dtype         \n",
            "---  ------      --------------  -----         \n",
            " 0   dt          181 non-null    datetime64[ns]\n",
            " 1   client_id   181 non-null    int32         \n",
            " 2   product_id  181 non-null    int32         \n",
            " 3   amount      181 non-null    int32         \n",
            "dtypes: datetime64[ns](1), int32(3)\n",
            "memory usage: 3.7 KB\n"
          ]
        }
      ]
    },
    {
      "cell_type": "code",
      "source": [
        "print(pd.io.sql.get_schema(df,name=db_tbl,con=con))"
      ],
      "metadata": {
        "colab": {
          "base_uri": "https://localhost:8080/"
        },
        "id": "YgBXE1-TDy9J",
        "outputId": "625e55e0-6e98-4370-f241-49cc7f1f9945"
      },
      "execution_count": 19,
      "outputs": [
        {
          "output_type": "stream",
          "name": "stdout",
          "text": [
            "\n",
            "CREATE TABLE sales (\n",
            "\tdt TIMESTAMP WITHOUT TIME ZONE, \n",
            "\tclient_id INTEGER, \n",
            "\tproduct_id INTEGER, \n",
            "\tamount INTEGER\n",
            ")\n",
            "\n",
            "\n"
          ]
        }
      ]
    },
    {
      "cell_type": "code",
      "source": [
        "chunk_size = 50\n",
        "chunk_number=1"
      ],
      "metadata": {
        "id": "KKZWhQytOLzW"
      },
      "execution_count": 20,
      "outputs": []
    },
    {
      "cell_type": "code",
      "source": [
        "for df_chunk in pd.read_csv(input_csv, iterator=True, chunksize=chunk_size):\n",
        "  t_start = time()\n",
        "  df_chunk.columns = ['dt','client_id','product_id','amount']\n",
        "  df_chunk['dt'] = pd.to_datetime(df['dt'], format='%d.%m.%Y', errors='ignore')\n",
        "  df_chunk['client_id'] = df['client_id'].astype('int32')\n",
        "  df_chunk['product_id'] = df['product_id'].astype('int32')\n",
        "  df_chunk['amount'] = df['amount'].astype('int32')\n",
        "  df_chunk.to_sql(name=db_tbl, index=False, con=con, if_exists='append')\n",
        "  t_end = time()\n",
        "  t = t_end - t_start\n",
        "  print(f'Inserted chunk {chunk_number}, {t:0.3f} second')\n",
        "  chunk_number = chunk_number + 1 "
      ],
      "metadata": {
        "colab": {
          "base_uri": "https://localhost:8080/"
        },
        "id": "oPFrIvwJOa7z",
        "outputId": "3a0c5b99-6787-4359-ed41-83155be04b6e"
      },
      "execution_count": 21,
      "outputs": [
        {
          "output_type": "stream",
          "name": "stdout",
          "text": [
            "Inserted chunk 1, 0.038 second\n",
            "Inserted chunk 2, 0.010 second\n",
            "Inserted chunk 3, 0.014 second\n",
            "Inserted chunk 4, 0.009 second\n"
          ]
        }
      ]
    },
    {
      "cell_type": "code",
      "source": [
        "def select_postgresql(sql):\n",
        "    return pd.read_sql(sql, con)"
      ],
      "metadata": {
        "id": "8VIVJT3TJ2Yl"
      },
      "execution_count": 22,
      "outputs": []
    },
    {
      "cell_type": "code",
      "source": [
        "sql = \"select count(*) from sales\""
      ],
      "metadata": {
        "id": "xMb4Q4PLJ22N"
      },
      "execution_count": 23,
      "outputs": []
    },
    {
      "cell_type": "code",
      "source": [
        "print(select_postgresql(sql))"
      ],
      "metadata": {
        "colab": {
          "base_uri": "https://localhost:8080/"
        },
        "id": "7bYJdnY7J41N",
        "outputId": "b44f14d4-e28e-4fde-bcbc-6d85a35e1b4b"
      },
      "execution_count": 24,
      "outputs": [
        {
          "output_type": "stream",
          "name": "stdout",
          "text": [
            "   count\n",
            "0    181\n"
          ]
        }
      ]
    },
    {
      "cell_type": "code",
      "source": [
        "sql = \"select * from sales limit 5\""
      ],
      "metadata": {
        "id": "Miy7XBbtcV9c"
      },
      "execution_count": 25,
      "outputs": []
    },
    {
      "cell_type": "code",
      "source": [
        "print(select_postgresql(sql))"
      ],
      "metadata": {
        "colab": {
          "base_uri": "https://localhost:8080/"
        },
        "id": "mwtrPJrZcZ4T",
        "outputId": "1b83b732-cf2d-4e3e-bb18-2f67a6f2aaa2"
      },
      "execution_count": 26,
      "outputs": [
        {
          "output_type": "stream",
          "name": "stdout",
          "text": [
            "          dt  client_id  product_id  amount\n",
            "0 2021-01-01          4           4      24\n",
            "1 2021-01-02          1           1       1\n",
            "2 2021-01-03          2           1      10\n",
            "3 2021-01-04         10           3      80\n",
            "4 2021-01-05          8           1      72\n"
          ]
        }
      ]
    }
  ]
}